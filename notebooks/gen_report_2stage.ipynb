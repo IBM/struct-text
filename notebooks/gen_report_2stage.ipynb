{
 "cells": [
  {
   "cell_type": "markdown",
   "id": "9ccc3746",
   "metadata": {},
   "source": [
    "# Structured to Unstructured generation \n"
   ]
  },
  {
   "cell_type": "code",
   "execution_count": null,
   "id": "fd446da7",
   "metadata": {},
   "outputs": [],
   "source": [
    "# Standard libraries\n",
    "import os\n",
    "import io\n",
    "import sys\n",
    "import filelock\n",
    "from datetime import datetime\n",
    "from typing import List, Optional, Union, Dict, Any, Tuple\n",
    "from pathlib import Path\n",
    "\n",
    "# Data processing and display\n",
    "import pandas as pd\n",
    "from tqdm import tqdm\n",
    "\n",
    "# Environment and configuration\n",
    "from dotenv import load_dotenv\n",
    "\n",
    "# DSPy and concurrency\n",
    "import dspy\n",
    "from concurrent.futures import ThreadPoolExecutor, as_completed\n",
    "import threading\n",
    "\n",
    "# Dataset loading\n",
    "from datasets import load_dataset\n"
   ]
  },
  {
   "cell_type": "code",
   "execution_count": null,
   "id": "82924694",
   "metadata": {},
   "outputs": [],
   "source": [
    "project_root = Path.cwd().parent\n",
    "sys.path.append(str(project_root))\n",
    "print(project_root)\n",
    "from src.report_generation import *\n"
   ]
  },
  {
   "cell_type": "markdown",
   "id": "4b2f5b8a",
   "metadata": {},
   "source": [
    "# Initial setup and configs"
   ]
  },
  {
   "cell_type": "code",
   "execution_count": null,
   "id": "e9f72248",
   "metadata": {
    "tags": [
     "parameters"
    ]
   },
   "outputs": [],
   "source": [
    "os.environ[\"PYDEVD_DISABLE_FILE_VALIDATION\"] = \"1\"\n",
    "load_dotenv()\n",
    "\n",
    "# folder_name = \"SEC_WikiDB\"\n",
    "folder_name = \"SEC_WikiDB_subset\"\n",
    "\n",
    "data_type = \"unfiltered\"\n",
    "subset = \"all\"\n",
    "\n",
    "force_reprocess = False\n",
    "\n",
    "LITELLM_MODEL = os.environ[\"LITELLM_MODEL\"]\n",
    "LLM_API_BASE = os.environ[\"BASE_URL\"]\n",
    "model_name = os.environ[\"RG_MODEL_NAME\"]\n",
    "API_KEY = os.environ[\"API_KEY\"]\n",
    "\n",
    "out_dir = os.environ[\"OUTPUT_DIR\"]\n",
    "max_workers = int(os.environ[\"MAX_WORKERS\"])  # max_workers = 50\n",
    "# Row sampling configuration\n",
    "ROW_SAMPLE_SIZE = os.environ[\"ROW_SAMPLE_SIZE\"]\n",
    "ROW_RANDOM_SEED = int(os.environ[\"ROW_RANDOM_SEED\"])\n",
    "randomize = False\n",
    "liteLLM_retries = int(os.environ[\"LITELLM_RETRIES\"])  # 15\n",
    "\n",
    "# Convert ROW_SAMPLE_SIZE to None if it's 'None'\n",
    "if ROW_SAMPLE_SIZE == \"None\":\n",
    "    ROW_SAMPLE_SIZE = None\n",
    "else:\n",
    "    ROW_SAMPLE_SIZE = int(ROW_SAMPLE_SIZE)\n"
   ]
  },
  {
   "cell_type": "code",
   "execution_count": null,
   "id": "36c90ef1",
   "metadata": {},
   "outputs": [],
   "source": [
    "out_name = model_name\n",
    "out_name = out_name.replace(\".\", \"_\").lower()\n",
    "out_name = Path(out_name).stem\n",
    "print(\n",
    "    model_name,\n",
    "    out_name,\n",
    ")\n",
    "\n",
    "output_path = f\"{out_dir}/{folder_name}_{data_type}_{subset}\"\n",
    "\n",
    "output_lock_dir = f\"{out_dir}/locks\"  # Directory for file locks\n",
    "os.makedirs(output_lock_dir, exist_ok=True)\n"
   ]
  },
  {
   "cell_type": "code",
   "execution_count": null,
   "id": "a7771e3c",
   "metadata": {},
   "outputs": [],
   "source": [
    "# Load subset for faster experimentation. \"SEC_WikiDB subset unfiltered - all file types\" - The smaller 49 csv files for quick prototyping.\n",
    "\n",
    "dataset = load_dataset(\n",
    "    \"ibm-research/struct-text\",\n",
    "    f\"{folder_name}_{data_type}_{subset}\",\n",
    "    streaming=False,\n",
    "    cache_dir=output_path,\n",
    ")\n"
   ]
  },
  {
   "cell_type": "markdown",
   "id": "670492a9",
   "metadata": {},
   "source": [
    "# Model Configs"
   ]
  },
  {
   "cell_type": "code",
   "execution_count": null,
   "id": "0367b4d9",
   "metadata": {},
   "outputs": [],
   "source": [
    "completion_args = {\n",
    "    \"model\": f\"{LITELLM_MODEL}/{model_name}\",\n",
    "    \"api_base\": f\"{LLM_API_BASE}\",\n",
    "    \"temperature\": 0,\n",
    "    \"api_key\": API_KEY,\n",
    "    \"cache\": 0,\n",
    "    \"num_retries\": liteLLM_retries,\n",
    "}\n"
   ]
  },
  {
   "cell_type": "code",
   "execution_count": null,
   "id": "97e9d95a",
   "metadata": {},
   "outputs": [],
   "source": [
    "# Configure DSPy with the language model\n",
    "lm = dspy.LM(**completion_args)\n",
    "dspy.configure(lm=lm)\n",
    "print(f\"Model: {model_name}, Output name: {out_name}\")\n"
   ]
  },
  {
   "cell_type": "code",
   "execution_count": null,
   "id": "3148d721",
   "metadata": {},
   "outputs": [],
   "source": [
    "resp = lm(\"Ping \")\n",
    "print(resp)\n"
   ]
  },
  {
   "cell_type": "markdown",
   "id": "b8486160",
   "metadata": {},
   "source": [
    "# Execute processing"
   ]
  },
  {
   "cell_type": "code",
   "execution_count": null,
   "id": "da78a4e6",
   "metadata": {},
   "outputs": [],
   "source": [
    "splits = {\n",
    "    \"train\": dataset[\"train\"],\n",
    "    \"val\": dataset[\"validation\"],\n",
    "    \"test\": dataset[\"test\"],\n",
    "}\n"
   ]
  },
  {
   "cell_type": "code",
   "execution_count": null,
   "id": "fe575415",
   "metadata": {},
   "outputs": [],
   "source": [
    "for split_type, split_data in splits.items():\n",
    "    print(split_type, split_data)\n",
    "    print(\"--\" * 10)\n"
   ]
  },
  {
   "cell_type": "code",
   "execution_count": null,
   "id": "cd6323d6",
   "metadata": {},
   "outputs": [],
   "source": [
    "report_planner = dspy.Predict(ReportPlannerWithSamples)\n",
    "report_text_generator = dspy.Predict(ReportTextGenerator)\n"
   ]
  },
  {
   "cell_type": "code",
   "execution_count": null,
   "id": "5c35ac00",
   "metadata": {},
   "outputs": [],
   "source": [
    "for split_type, split_data in splits.items():\n",
    "    print(split_type)\n",
    "    label_names = split_data.features[\"report_type\"].names\n",
    "    print(label_names)\n",
    "    for split_row in split_data:\n",
    "        row_label = label_names[split_row[\"report_type\"]]\n",
    "        file_name = split_row[\"file_name\"]\n",
    "        if row_label == \"ground_truth\":\n",
    "            # print(row_label)\n",
    "            print(file_name)\n",
    "            process_report_generation(\n",
    "                data_row=split_row,\n",
    "                split_type=split_type,\n",
    "                output_path=output_path,\n",
    "                out_name=out_name,\n",
    "                folder_name=folder_name,\n",
    "                output_lock_dir=output_lock_dir,\n",
    "                force_reprocess=force_reprocess,\n",
    "                report_planner=report_planner,\n",
    "                report_text_generator=report_text_generator,\n",
    "                ROW_RANDOM_SEED=ROW_RANDOM_SEED,\n",
    "                ROW_SAMPLE_SIZE=ROW_SAMPLE_SIZE,\n",
    "                randomize=randomize,\n",
    "                max_workers=max_workers,\n",
    "            )\n",
    "    print(\"==\" * 10)\n"
   ]
  },
  {
   "cell_type": "code",
   "execution_count": null,
   "id": "ed2cc3c6",
   "metadata": {},
   "outputs": [],
   "source": []
  }
 ],
 "metadata": {
  "kernelspec": {
   "display_name": "tada_bench",
   "language": "python",
   "name": "tada_bench"
  },
  "language_info": {
   "codemirror_mode": {
    "name": "ipython",
    "version": 3
   },
   "file_extension": ".py",
   "mimetype": "text/x-python",
   "name": "python",
   "nbconvert_exporter": "python",
   "pygments_lexer": "ipython3",
   "version": "3.11.11"
  }
 },
 "nbformat": 4,
 "nbformat_minor": 5
}
